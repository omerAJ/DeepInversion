{
 "cells": [
  {
   "cell_type": "code",
   "execution_count": 2,
   "metadata": {},
   "outputs": [
    {
     "name": "stdout",
     "output_type": "stream",
     "text": [
      "[0, 0, 0, 0, 0, 0, 0, 0, 0, 0, 0, 0, 1, 1, 1, 1, 1, 1, 1, 1, 1, 1, 1, 1, 2, 2, 2, 2, 2, 2, 2, 2, 2, 2, 2, 2, 3, 3, 3, 3, 3, 3, 3, 3, 3, 3, 3, 3, 4, 4, 4, 4, 4, 4, 4, 4, 4, 4, 4, 4, 5, 5, 5, 5, 5, 5, 5, 5, 5, 5, 5, 5, 6, 6, 6, 6, 6, 6, 6, 6, 6, 6, 6, 6, 7, 7, 7, 7, 7, 7, 7, 7, 7, 7, 7, 7, 8, 8, 8, 8, 8, 8, 8, 8, 8, 8, 8, 8, 9, 9, 9, 9, 9, 9, 9, 9, 9, 9, 9, 9]\n"
     ]
    }
   ],
   "source": [
    "targets = [i for i in range(10) for _ in range(4) for _ in range(3)]\n",
    "print(targets)"
   ]
  },
  {
   "cell_type": "code",
   "execution_count": null,
   "metadata": {},
   "outputs": [],
   "source": []
  },
  {
   "cell_type": "code",
   "execution_count": 179,
   "metadata": {},
   "outputs": [
    {
     "data": {
      "image/png": "[encoded data removed]",
      "text/plain": [
       "<Figure size 600x300 with 2 Axes>"
      ]
     },
     "metadata": {},
     "output_type": "display_data"
    }
   ],
   "source": [
    "import torch\n",
    "import torchvision.transforms as transforms\n",
    "from PIL import Image\n",
    "import matplotlib.pyplot as plt\n",
    "\n",
    "import torch\n",
    "import torch.nn.functional as F\n",
    "from scipy.ndimage import gaussian_filter\n",
    "\n",
    "def elastic_transform(image, alpha=34, sigma=4):\n",
    "    \"\"\"\n",
    "    Apply differentiable elastic distortion to an image.\n",
    "    \n",
    "    Args:\n",
    "    - image (torch.Tensor): Input image tensor of shape (1, H, W).\n",
    "    - alpha (float): Scaling factor for the distortion.\n",
    "    - sigma (float): Standard deviation for Gaussian filter.\n",
    "    \n",
    "    Returns:\n",
    "    - torch.Tensor: Distorted image with the same shape as input.\n",
    "    \"\"\"\n",
    "    # Ensure the image is on the correct device\n",
    "    device = image.device\n",
    "    B, H, W = image.shape\n",
    "\n",
    "    # Generate random displacement fields\n",
    "    dx = torch.randn(B, H, W, device=device)\n",
    "    dy = torch.randn(B, H, W, device=device)\n",
    "    \n",
    "    # Apply Gaussian filter for smoothness\n",
    "    dx = torch.tensor(gaussian_filter(dx.cpu().numpy(), sigma), device=device)\n",
    "    dy = torch.tensor(gaussian_filter(dy.cpu().numpy(), sigma), device=device)\n",
    "    \n",
    "    # Scale displacement fields\n",
    "    dx *= alpha\n",
    "    dy *= alpha\n",
    "    \n",
    "    # Create mesh grid for pixel indices\n",
    "    x, y = torch.meshgrid(torch.arange(H, device=device), torch.arange(W, device=device), indexing='ij')\n",
    "    x = x.unsqueeze(0).float()\n",
    "    y = y.unsqueeze(0).float()\n",
    "    \n",
    "    # Add displacements\n",
    "    x_displaced = x + dx\n",
    "    y_displaced = y + dy\n",
    "    \n",
    "    # Normalize coordinates for grid_sample\n",
    "    x_displaced = 2 * (x_displaced / (H - 1)) - 1\n",
    "    y_displaced = 2 * (y_displaced / (W - 1)) - 1\n",
    "    grid = torch.stack((y_displaced, x_displaced), dim=-1)\n",
    "    \n",
    "    # Apply grid_sample for bilinear interpolation\n",
    "    distorted_image = F.grid_sample(image.unsqueeze(0), grid, align_corners=True)\n",
    "    \n",
    "    return distorted_image.squeeze(0)\n",
    "\n",
    "import torch\n",
    "import torch.nn.functional as F\n",
    "\n",
    "import torch\n",
    "import torch.nn.functional as F\n",
    "\n",
    "def differentiable_rotate_translate_blur(images, angle_range=5, translate_range=2, blur_sigma=1):\n",
    "    \"\"\"\n",
    "    Apply differentiable rotation, translation, and Gaussian blur to a batch of images.\n",
    "    \n",
    "    Args:\n",
    "    - images (torch.Tensor): Input image tensor of shape (B, C, H, W).\n",
    "    - angle_range (float): Maximum angle for random rotation in degrees.\n",
    "    - translate_range (float): Maximum translation in pixels for x and y directions.\n",
    "    - blur_sigma (float): Standard deviation for Gaussian blur kernel.\n",
    "    \n",
    "    Returns:\n",
    "    - torch.Tensor: Augmented images with the same shape as input.\n",
    "    \"\"\"\n",
    "    images = images.unsqueeze(0) \n",
    "    device = images.device\n",
    "    B, C, H, W = images.shape\n",
    "    \n",
    "    # Rotation\n",
    "    angles = (torch.rand(B, device=device) * 2 - 1) * angle_range  # Random angles in range [-angle_range, angle_range]\n",
    "    cos_vals = torch.cos(torch.deg2rad(angles))\n",
    "    sin_vals = torch.sin(torch.deg2rad(angles))\n",
    "\n",
    "    # Translation\n",
    "    translate_x = (torch.rand(B, device=device) * 2 - 1) * translate_range\n",
    "    translate_y = (torch.rand(B, device=device) * 2 - 1) * translate_range\n",
    "\n",
    "    # Construct affine transformation matrices\n",
    "    theta = torch.zeros((B, 2, 3), device=device)\n",
    "    theta[:, 0, 0] = cos_vals\n",
    "    theta[:, 0, 1] = -sin_vals\n",
    "    theta[:, 1, 0] = sin_vals\n",
    "    theta[:, 1, 1] = cos_vals\n",
    "    theta[:, 0, 2] = translate_x / (W / 2)  # Normalize for affine grid\n",
    "    theta[:, 1, 2] = translate_y / (H / 2)  # Normalize for affine grid\n",
    "\n",
    "    # Apply affine transformation (rotation + translation)\n",
    "    grid = F.affine_grid(theta, images.size(), align_corners=True)\n",
    "    transformed_images = F.grid_sample(images, grid, align_corners=True)\n",
    "\n",
    "    # Gaussian Blur\n",
    "    kernel_size = int(2 * 3 * blur_sigma + 1)  # Calculate kernel size based on sigma\n",
    "    x = torch.arange(kernel_size, dtype=torch.float32, device=device) - (kernel_size - 1) / 2\n",
    "    gauss_kernel = torch.exp(-0.5 * (x / blur_sigma) ** 2)\n",
    "    gauss_kernel = gauss_kernel / gauss_kernel.sum()\n",
    "\n",
    "    # Create 2D Gaussian kernel from 1D kernels\n",
    "    gauss_kernel_2d = gauss_kernel[:, None] @ gauss_kernel[None, :]\n",
    "    gauss_kernel_2d = gauss_kernel_2d.expand(C, 1, kernel_size, kernel_size)  # Shape (C, 1, K, K) for depthwise conv\n",
    "\n",
    "    # Apply Gaussian blur using depthwise convolution\n",
    "    padding = kernel_size // 2\n",
    "    blurred_images = F.conv2d(transformed_images, gauss_kernel_2d, padding=padding, groups=C)\n",
    "\n",
    "    return blurred_images\n",
    "\n",
    "\n",
    "# Load image\n",
    "def load_image(path):\n",
    "    image = Image.open(path).convert('L')  # Convert to grayscale\n",
    "    transform = transforms.ToTensor()      # Convert to tensor with shape (1, H, W) and normalize to [0, 1]\n",
    "    return transform(image)\n",
    "\n",
    "# Main function\n",
    "def main(image_path):\n",
    "    x = load_image(image_path)\n",
    "    x_jittered = differentiable_rotate_translate_blur(x, 10, 15)\n",
    "\n",
    "    # Plot original and color-jittered images\n",
    "    plt.figure(figsize=(6, 3))\n",
    "    plt.subplot(1, 2, 1)\n",
    "    plt.title(\"Original\")\n",
    "    plt.imshow(x.squeeze().detach().cpu().numpy(), cmap='gray')\n",
    "    plt.axis('off')\n",
    "\n",
    "    plt.subplot(1, 2, 2)\n",
    "    plt.title(\"Color Jittered\")\n",
    "    plt.imshow(x_jittered.squeeze().detach().cpu().numpy(), cmap='gray')\n",
    "    plt.axis('off')\n",
    "    plt.show()\n",
    "\n",
    "# Example usage\n",
    "img_path = r\"D:\\datasets\\mnist3.png\"\n",
    "main(img_path)\n"
   ]
  },
  {
   "cell_type": "code",
   "execution_count": 13,
   "metadata": {},
   "outputs": [
    {
     "name": "stdout",
     "output_type": "stream",
     "text": [
      "Collecting scipy\n",
      "  Using cached scipy-1.14.1-cp312-cp312-win_amd64.whl.metadata (60 kB)\n",
      "Requirement already satisfied: numpy<2.3,>=1.23.5 in c:\\users\\ist\\miniconda3\\lib\\site-packages (from scipy) (2.1.1)\n",
      "Using cached scipy-1.14.1-cp312-cp312-win_amd64.whl (44.5 MB)\n",
      "Installing collected packages: scipy\n",
      "Successfully installed scipy-1.14.1\n"
     ]
    }
   ],
   "source": [
    "!pip install scipy"
   ]
  }
 ],
 "metadata": {
  "kernelspec": {
   "display_name": "base",
   "language": "python",
   "name": "python3"
  },
  "language_info": {
   "codemirror_mode": {
    "name": "ipython",
    "version": 3
   },
   "file_extension": ".py",
   "mimetype": "text/x-python",
   "name": "python",
   "nbconvert_exporter": "python",
   "pygments_lexer": "ipython3",
   "version": "3.12.3"
  }
 },
 "nbformat": 4,
 "nbformat_minor": 2
}
